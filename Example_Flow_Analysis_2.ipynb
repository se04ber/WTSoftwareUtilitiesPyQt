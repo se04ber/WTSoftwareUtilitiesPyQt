{
 "cells": [
  {
   "cell_type": "code",
   "execution_count": 1,
   "id": "c10f7e0b",
   "metadata": {},
   "outputs": [],
   "source": [
    "ls"
   ]
  },
  {
   "cell_type": "code",
   "execution_count": 2,
   "id": "bb760c9b",
   "metadata": {},
   "outputs": [],
   "source": [
    "jupyter Example_Flow_Analysis_2.ipynb"
   ]
  },
  {
   "cell_type": "code",
   "execution_count": 3,
   "id": "6d7c7249",
   "metadata": {},
   "outputs": [],
   "source": [
    "jupyter notebook Example_Flow_Analysis_2.ipynb"
   ]
  },
  {
   "cell_type": "code",
   "execution_count": 4,
   "id": "df3a2c2e",
   "metadata": {},
   "outputs": [],
   "source": [
    "Example_Flow_Analysis_2.ipynb"
   ]
  },
  {
   "cell_type": "code",
   "execution_count": 5,
   "id": "df1919fd",
   "metadata": {},
   "outputs": [],
   "source": [
    "Example_Flow_Analysis_2.ipynb"
   ]
  }
 ],
 "metadata": {},
 "nbformat": 4,
 "nbformat_minor": 5
}
